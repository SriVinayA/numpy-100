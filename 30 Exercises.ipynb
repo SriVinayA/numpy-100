{
 "cells": [
  {
   "cell_type": "code",
   "execution_count": 49,
   "metadata": {},
   "outputs": [
    {
     "name": "stdout",
     "output_type": "stream",
     "text": [
      "[[0. 0. 0. 0. 0.]\n",
      " [0. 1. 1. 1. 0.]\n",
      " [0. 1. 1. 1. 0.]\n",
      " [0. 1. 1. 1. 0.]\n",
      " [0. 0. 0. 0. 0.]]\n",
      "\n",
      "\n"
     ]
    }
   ],
   "source": [
    "import numpy as np\n",
    "np.seterr(divide='ignore', invalid='ignore')\n",
    "\n",
    "#16\n",
    "#How to add a border (filled with 0's) around an existing array?\n",
    "x = np.ones((3,3))\n",
    "x = np.pad(x, pad_width=1, mode='constant', constant_values=0)\n",
    "print(x)\n",
    "print(\"\\n\")"
   ]
  },
  {
   "cell_type": "code",
   "execution_count": 50,
   "metadata": {},
   "outputs": [
    {
     "data": {
      "text/plain": [
       "False"
      ]
     },
     "execution_count": 50,
     "metadata": {},
     "output_type": "execute_result"
    }
   ],
   "source": [
    "#17\n",
    "#What is the result of the following expression?\n",
    "# 0 * np.nan\n",
    "# np.nan == np.nan\n",
    "# np.inf > np.nan\n",
    "# np.nan - np.nan\n",
    "# np.nan in set([np.nan])\n",
    "# 0.3 == 3 * 0.1\n",
    "\n",
    "0 * np.nan\n",
    "np.nan == np.nan\n",
    "np.inf > np.nan\n",
    "np.nan - np.nan\n",
    "np.nan in set([np.nan])\n",
    "0.3 == 3 * 0.1"
   ]
  },
  {
   "cell_type": "code",
   "execution_count": 51,
   "metadata": {},
   "outputs": [
    {
     "name": "stdout",
     "output_type": "stream",
     "text": [
      "[[0 0 0 0 0]\n",
      " [1 0 0 0 0]\n",
      " [0 2 0 0 0]\n",
      " [0 0 3 0 0]\n",
      " [0 0 0 4 0]]\n"
     ]
    }
   ],
   "source": [
    "#18\n",
    "#Create a 5x5 matrix with values 1,2,3,4 just below the diagonal\n",
    "\n",
    "a = np.diag(1+np.arange(4),k=-1)\n",
    "print(a)"
   ]
  },
  {
   "cell_type": "code",
   "execution_count": 52,
   "metadata": {},
   "outputs": [
    {
     "name": "stdout",
     "output_type": "stream",
     "text": [
      "[[0 1 0 1 0 1 0 1]\n",
      " [1 0 1 0 1 0 1 0]\n",
      " [0 1 0 1 0 1 0 1]\n",
      " [1 0 1 0 1 0 1 0]\n",
      " [0 1 0 1 0 1 0 1]\n",
      " [1 0 1 0 1 0 1 0]\n",
      " [0 1 0 1 0 1 0 1]\n",
      " [1 0 1 0 1 0 1 0]]\n"
     ]
    }
   ],
   "source": [
    "#19\n",
    "#Create a 8x8 matrix and fill it with a checkerboard pattern\n",
    "\n",
    "a = np.tile( np.array([[0,1],[1,0]]), (4,4))\n",
    "print(a)"
   ]
  },
  {
   "cell_type": "code",
   "execution_count": 53,
   "metadata": {},
   "outputs": [
    {
     "name": "stdout",
     "output_type": "stream",
     "text": [
      "(1, 5, 4)\n"
     ]
    }
   ],
   "source": [
    "#20\n",
    "#Consider a (6,7,8) shape array, what is the index (x,y,z) of the 100th element?\n",
    "\n",
    "print(np.unravel_index(100,(6,7,8)))"
   ]
  },
  {
   "cell_type": "code",
   "execution_count": 54,
   "metadata": {},
   "outputs": [
    {
     "name": "stdout",
     "output_type": "stream",
     "text": [
      "[[0 1 0 1 0 1 0 1]\n",
      " [1 0 1 0 1 0 1 0]\n",
      " [0 1 0 1 0 1 0 1]\n",
      " [1 0 1 0 1 0 1 0]\n",
      " [0 1 0 1 0 1 0 1]\n",
      " [1 0 1 0 1 0 1 0]\n",
      " [0 1 0 1 0 1 0 1]\n",
      " [1 0 1 0 1 0 1 0]]\n"
     ]
    }
   ],
   "source": [
    "#21\n",
    "#Create a checkerboard 8x8 matrix using the tile function\n",
    "\n",
    "a = np.tile( np.array([[0,1],[1,0]]), (4,4))\n",
    "print(a)"
   ]
  },
  {
   "cell_type": "code",
   "execution_count": 55,
   "metadata": {},
   "outputs": [
    {
     "name": "stdout",
     "output_type": "stream",
     "text": [
      "[[0.35623465 0.95470459 0.4736755  0.43935133 0.26772868]\n",
      " [0.65190028 0.87609518 0.51686484 0.56864178 0.7637358 ]\n",
      " [0.14455915 1.         0.14666444 0.51653878 0.7192924 ]\n",
      " [0.40169708 0.4027263  0.23517536 0.45256288 0.73373608]\n",
      " [0.16906303 0.40965614 0.         0.69676492 0.99291666]]\n"
     ]
    }
   ],
   "source": [
    "#22\n",
    "#Normalize a 5x5 random matrix\n",
    "\n",
    "a = np.random.random((5,5))\n",
    "amax, amin = a.max(), a.min()\n",
    "a = (a - amin)/(amax - amin)\n",
    "print(a)"
   ]
  },
  {
   "cell_type": "code",
   "execution_count": 56,
   "metadata": {},
   "outputs": [
    {
     "name": "stdout",
     "output_type": "stream",
     "text": [
      "[('r', 'u1'), ('g', 'u1'), ('b', 'u1'), ('a', 'u1')]\n"
     ]
    }
   ],
   "source": [
    "#23\n",
    "#Create a custom dtype that describes a color as four unsigned bytes (RGBA)\n",
    "\n",
    "color = np.dtype([(\"r\", np.ubyte, 1), (\"g\", np.ubyte, 1), (\"b\", np.ubyte, 1), (\"a\", np.ubyte, 1)])\n",
    "print(color)"
   ]
  },
  {
   "cell_type": "code",
   "execution_count": 57,
   "metadata": {},
   "outputs": [
    {
     "name": "stdout",
     "output_type": "stream",
     "text": [
      "[[3. 3.]\n",
      " [3. 3.]\n",
      " [3. 3.]\n",
      " [3. 3.]\n",
      " [3. 3.]]\n"
     ]
    }
   ],
   "source": [
    "#24\n",
    "#Multiply a 5x3 matrix by a 3x2 matrix (real matrix product)\n",
    "\n",
    "a = np.dot(np.ones((5,3)), np.ones((3,2)))\n",
    "print(a)"
   ]
  },
  {
   "cell_type": "code",
   "execution_count": 58,
   "metadata": {},
   "outputs": [
    {
     "name": "stdout",
     "output_type": "stream",
     "text": [
      "[ 0  1  2  3 -4 -5 -6 -7 -8  9 10]\n"
     ]
    }
   ],
   "source": [
    "#25\n",
    "#Given a 1D array, negate all elements which are between 3 and 8, in place.\n",
    "\n",
    "a = np.arange(11)\n",
    "a[(3 < a) & (a <= 8)] *= -1\n",
    "print(a)"
   ]
  },
  {
   "cell_type": "code",
   "execution_count": 59,
   "metadata": {},
   "outputs": [
    {
     "name": "stdout",
     "output_type": "stream",
     "text": [
      "10\n",
      "10\n"
     ]
    }
   ],
   "source": [
    "#26\n",
    "#What is the output of the following script?\n",
    "# print(sum(range(5),-1))\n",
    "# from numpy import *\n",
    "# print(sum(range(5),-1))\n",
    "\n",
    "\n",
    "print(sum(range(5),-1))\n",
    "from numpy import *\n",
    "print(sum(range(5),-1))"
   ]
  },
  {
   "cell_type": "code",
   "execution_count": 60,
   "metadata": {},
   "outputs": [
    {
     "name": "stdout",
     "output_type": "stream",
     "text": [
      "[0.07378519 0.02776476 0.30500635]\n",
      "[False False False]\n",
      "[0.+0.27163429j 0.+0.16662762j 0.+0.5522738j ]\n",
      "[0.27163429 0.16662762 0.5522738 ]\n"
     ]
    }
   ],
   "source": [
    "#27\n",
    "#Consider an integer vector Z, which of these expressions are legal?\n",
    "# Z**Z\n",
    "# 2 << Z >> 2\n",
    "# Z <- Z\n",
    "# 1j*Z\n",
    "# Z/1/1\n",
    "# Z<Z>Z\n",
    "\n",
    "Z = np.random.random(3)\n",
    "print(Z*Z)\n",
    "#print(2 << Z >> 2)\n",
    "print(Z <- Z)\n",
    "print(1j*Z)\n",
    "print(Z/1/1)\n",
    "#print(Z<Z>Z)"
   ]
  },
  {
   "cell_type": "code",
   "execution_count": 61,
   "metadata": {},
   "outputs": [
    {
     "name": "stdout",
     "output_type": "stream",
     "text": [
      "nan\n",
      "0\n",
      "[-2.14748365e+09]\n"
     ]
    }
   ],
   "source": [
    "#28\n",
    "#What are the result of the following expressions?\n",
    "# np.array(0) / np.array(0)\n",
    "# np.array(0) // np.array(0)\n",
    "# np.array([np.nan]).astype(int).astype(float)\n",
    "\n",
    "\n",
    "print(np.array(0) / np.array(0))\n",
    "print(np.array(0) // np.array(0))\n",
    "print(np.array([np.nan]).astype(int).astype(float))"
   ]
  },
  {
   "cell_type": "code",
   "execution_count": 62,
   "metadata": {},
   "outputs": [
    {
     "name": "stdout",
     "output_type": "stream",
     "text": [
      "[ 1. -0.  8. -6.  6. -2.  2.  3. -8. -7.]\n"
     ]
    }
   ],
   "source": [
    "#29\n",
    "#How to round away from zero a float array ?\n",
    "\n",
    "a = np.random.uniform(-10,+10,10)\n",
    "print (np.trunc(a + np.copysign(0.5, a)))\n"
   ]
  },
  {
   "cell_type": "code",
   "execution_count": 63,
   "metadata": {},
   "outputs": [
    {
     "name": "stdout",
     "output_type": "stream",
     "text": [
      "Array1:  [ 0 10 20 40 60]\n",
      "Array2:  [10, 30, 40]\n",
      "Common values between two arrays:\n",
      "[10 40]\n"
     ]
    }
   ],
   "source": [
    "#30\n",
    "#How to find common values between two arrays?\n",
    "\n",
    "array1 = np.array([0, 10, 20, 40, 60])\n",
    "print(\"Array1: \",array1)\n",
    "array2 = [10, 30, 40]\n",
    "print(\"Array2: \",array2)\n",
    "print(\"Common values between two arrays:\")\n",
    "print(np.intersect1d(array1, array2))"
   ]
  }
 ],
 "metadata": {
  "kernelspec": {
   "display_name": "Python 3",
   "language": "python",
   "name": "python3"
  },
  "language_info": {
   "codemirror_mode": {
    "name": "ipython",
    "version": 3
   },
   "file_extension": ".py",
   "mimetype": "text/x-python",
   "name": "python",
   "nbconvert_exporter": "python",
   "pygments_lexer": "ipython3",
   "version": "3.6.5"
  }
 },
 "nbformat": 4,
 "nbformat_minor": 2
}
