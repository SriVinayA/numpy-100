{
 "cells": [
  {
   "cell_type": "code",
   "execution_count": 15,
   "metadata": {},
   "outputs": [
    {
     "name": "stdout",
     "output_type": "stream",
     "text": [
      "[10. 15. 20.]\n",
      "\n",
      "\n",
      "[10.  12.5 15.  17.5 20. ]\n",
      "\n",
      "\n",
      "[10. 12. 14. 16. 18.]\n",
      "\n",
      "\n",
      "(array([10. , 12.5, 15. , 17.5, 20. ]), 2.5)\n",
      "\n",
      "\n"
     ]
    }
   ],
   "source": [
    "import numpy as np \n",
    "a = np.linspace(10,20, 3) \n",
    "print(a)\n",
    "print(\"\\n\")\n",
    "\n",
    "a = np.linspace(10, 20, 5) \n",
    "print(a)\n",
    "print(\"\\n\")\n",
    "\n",
    "a = np.linspace(10,20, 5, endpoint = False) #doesn't displays the last value\n",
    "print(a)\n",
    "print(\"\\n\")\n",
    "\n",
    "a = np.linspace(10,20, 5, retstep=True) #displays the spacing between the consecutive numbers\n",
    "print(a)\n",
    "print(\"\\n\")"
   ]
  },
  {
   "cell_type": "code",
   "execution_count": null,
   "metadata": {},
   "outputs": [],
   "source": []
  }
 ],
 "metadata": {
  "kernelspec": {
   "display_name": "Python 3",
   "language": "python",
   "name": "python3"
  },
  "language_info": {
   "codemirror_mode": {
    "name": "ipython",
    "version": 3
   },
   "file_extension": ".py",
   "mimetype": "text/x-python",
   "name": "python",
   "nbconvert_exporter": "python",
   "pygments_lexer": "ipython3",
   "version": "3.6.5"
  }
 },
 "nbformat": 4,
 "nbformat_minor": 2
}
